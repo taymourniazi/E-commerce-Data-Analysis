{
 "cells": [
  {
   "cell_type": "code",
   "execution_count": 1,
   "metadata": {
    "collapsed": true
   },
   "outputs": [],
   "source": [
    "import os\n",
    "os.chdir (\"D:\\E-Commerce\\sentiment labelled sentences\")"
   ]
  },
  {
   "cell_type": "code",
   "execution_count": 2,
   "metadata": {
    "collapsed": true
   },
   "outputs": [],
   "source": [
    "import numpy as np\n",
    "import pandas as pd"
   ]
  },
  {
   "cell_type": "code",
   "execution_count": 3,
   "metadata": {},
   "outputs": [],
   "source": [
    "data = pd.read_csv('imdb_labelled.txt', header=None, sep=r\"\\t\", engine='python')\n",
    "data.columns = ['review','sentiment']"
   ]
  },
  {
   "cell_type": "code",
   "execution_count": 4,
   "metadata": {},
   "outputs": [
    {
     "data": {
      "text/html": [
       "<div>\n",
       "<style>\n",
       "    .dataframe thead tr:only-child th {\n",
       "        text-align: right;\n",
       "    }\n",
       "\n",
       "    .dataframe thead th {\n",
       "        text-align: left;\n",
       "    }\n",
       "\n",
       "    .dataframe tbody tr th {\n",
       "        vertical-align: top;\n",
       "    }\n",
       "</style>\n",
       "<table border=\"1\" class=\"dataframe\">\n",
       "  <thead>\n",
       "    <tr style=\"text-align: right;\">\n",
       "      <th></th>\n",
       "      <th>review</th>\n",
       "      <th>sentiment</th>\n",
       "    </tr>\n",
       "  </thead>\n",
       "  <tbody>\n",
       "    <tr>\n",
       "      <th>0</th>\n",
       "      <td>A very, very, very slow-moving, aimless movie ...</td>\n",
       "      <td>0</td>\n",
       "    </tr>\n",
       "    <tr>\n",
       "      <th>1</th>\n",
       "      <td>Not sure who was more lost - the flat characte...</td>\n",
       "      <td>0</td>\n",
       "    </tr>\n",
       "    <tr>\n",
       "      <th>2</th>\n",
       "      <td>Attempting artiness with black &amp; white and cle...</td>\n",
       "      <td>0</td>\n",
       "    </tr>\n",
       "    <tr>\n",
       "      <th>3</th>\n",
       "      <td>Very little music or anything to speak of.</td>\n",
       "      <td>0</td>\n",
       "    </tr>\n",
       "    <tr>\n",
       "      <th>4</th>\n",
       "      <td>The best scene in the movie was when Gerardo i...</td>\n",
       "      <td>1</td>\n",
       "    </tr>\n",
       "  </tbody>\n",
       "</table>\n",
       "</div>"
      ],
      "text/plain": [
       "                                              review  sentiment\n",
       "0  A very, very, very slow-moving, aimless movie ...          0\n",
       "1  Not sure who was more lost - the flat characte...          0\n",
       "2  Attempting artiness with black & white and cle...          0\n",
       "3       Very little music or anything to speak of.            0\n",
       "4  The best scene in the movie was when Gerardo i...          1"
      ]
     },
     "execution_count": 4,
     "metadata": {},
     "output_type": "execute_result"
    }
   ],
   "source": [
    "data.head(n=5)"
   ]
  },
  {
   "cell_type": "code",
   "execution_count": 5,
   "metadata": {},
   "outputs": [
    {
     "name": "stdout",
     "output_type": "stream",
     "text": [
      "<class 'pandas.core.frame.DataFrame'>\n",
      "RangeIndex: 1000 entries, 0 to 999\n",
      "Data columns (total 2 columns):\n",
      "review       1000 non-null object\n",
      "sentiment    1000 non-null int64\n",
      "dtypes: int64(1), object(1)\n",
      "memory usage: 15.7+ KB\n"
     ]
    }
   ],
   "source": [
    "data.info()"
   ]
  },
  {
   "cell_type": "code",
   "execution_count": 11,
   "metadata": {},
   "outputs": [],
   "source": [
    "from sklearn.cross_validation import train_test_split\n",
    "corpus, test_corpus, y, yt = train_test_split(data.iloc[:,0], data.iloc[:,1],test_size=0.25, random_state=101)"
   ]
  },
  {
   "cell_type": "markdown",
   "metadata": {},
   "source": [
    "### After splitting the data, the code transforms the text using several NLP techniques: token counts, unigrams and bigrams, stop words removal, text length normalization, and TF-IDF transformation."
   ]
  },
  {
   "cell_type": "code",
   "execution_count": 7,
   "metadata": {
    "collapsed": true
   },
   "outputs": [],
   "source": [
    "from sklearn.feature_extraction import text\n",
    "vectorizer = text.CountVectorizer(ngram_range=(1,2),\n",
    "                                  stop_words='english').fit(corpus)\n",
    "TfidF = text.TfidfTransformer()\n",
    "X = TfidF.fit_transform(vectorizer.transform(corpus))\n",
    "Xt = TfidF.transform(vectorizer.transform(test_corpus))"
   ]
  },
  {
   "cell_type": "markdown",
   "metadata": {},
   "source": [
    "## This kind of support vector machine supports L2 regularization, so the code must search for the best C parameter using the grid search approach."
   ]
  },
  {
   "cell_type": "code",
   "execution_count": 12,
   "metadata": {},
   "outputs": [
    {
     "name": "stdout",
     "output_type": "stream",
     "text": [
      "Best parameters: {'C': 1.0}\n"
     ]
    }
   ],
   "source": [
    "from sklearn.svm import LinearSVC\n",
    "from sklearn.grid_search import GridSearchCV\n",
    "\n",
    "param_grid = {'C': [0.01, 0.1, 1.0, 10.0, 100.0]}\n",
    "\n",
    "clf = GridSearchCV(LinearSVC(loss='hinge',\n",
    "                             random_state=101), param_grid)\n",
    "\n",
    "clf = clf.fit(X, y)\n",
    "\n",
    "print (\"Best parameters: %s\" % clf.best_params_)"
   ]
  },
  {
   "cell_type": "markdown",
   "metadata": {},
   "source": [
    "## Now that the code has determined the best hyper-parameter for the problem, you can test performance on the test set using the accuracy measure, the percentage of correct times the code can guess the correct sentiment."
   ]
  },
  {
   "cell_type": "code",
   "execution_count": 9,
   "metadata": {},
   "outputs": [
    {
     "name": "stdout",
     "output_type": "stream",
     "text": [
      "Achieved accuracy: 0.816\n"
     ]
    }
   ],
   "source": [
    "from sklearn.metrics import accuracy_score\n",
    "\n",
    "solution = clf.predict(Xt)\n",
    "\n",
    "print(\"Achieved accuracy: %0.3f\" %\n",
    "\n",
    "accuracy_score(yt, solution))"
   ]
  },
  {
   "cell_type": "markdown",
   "metadata": {},
   "source": [
    "## The results indicate accuracy of higher than 80 percent, but determining which phrases tricked the algorithm into making a wrong prediction is interesting. You can print the misclassified texts and consider what the learning algorithm is missing in terms of learning from text."
   ]
  },
  {
   "cell_type": "code",
   "execution_count": 10,
   "metadata": {
    "scrolled": true
   },
   "outputs": [
    {
     "name": "stdout",
     "output_type": "stream",
     "text": [
      "601    There is simply no excuse for something this p...\n",
      "32     This is the kind of money that is wasted prope...\n",
      "887    At any rate this film stinks, its not funny, a...\n",
      "668    Speaking of the music, it is unbearably predic...\n",
      "408         It really created a unique feeling though.  \n",
      "413         The camera really likes her in this movie.  \n",
      "138    I saw \"Mirrormask\" last night and it was an un...\n",
      "132    This was a poor remake of \"My Best Friends Wed...\n",
      "291                               Rating: 1 out of 10.  \n",
      "904    I'm so sorry but I really can't recommend it t...\n",
      "410    A world better than 95% of the garbage in the ...\n",
      "55     But I recommend waiting for their future effor...\n",
      "826    The film deserves strong kudos for taking this...\n",
      "100            I don't think you will be disappointed.  \n",
      "352                                    It is shameful.  \n",
      "171    This movie now joins Revenge of the Boogeyman ...\n",
      "814    You share General Loewenhielm's exquisite joy ...\n",
      "218    It's this pandering to the audience that sabot...\n",
      "168    Still, I do like this movie for it's empowerme...\n",
      "479                     Of course, the acting is blah.  \n",
      "31                      Waste your money on this game.  \n",
      "805    The only place good for this film is in the ga...\n",
      "127    My only problem is I thought the actor playing...\n",
      "613                                       Go watch it!  \n",
      "764                      This movie is also revealing.  \n",
      "107    I love Lane, but I've never seen her in a movi...\n",
      "674    Tom Wilkinson broke my heart at the end... and...\n",
      "30     There are massive levels, massive unlockable c...\n",
      "667                                    It is not good.  \n",
      "823    I struggle to find anything bad to say about i...\n",
      "739         What on earth is Irons doing in this film?  \n",
      "185                              Highly unrecommended.  \n",
      "621    A mature, subtle script that suggests and occa...\n",
      "462    Considering the relations off screen between T...\n",
      "595    Easily, none other cartoon made me laugh in a ...\n",
      "8                                   A bit predictable.  \n",
      "446    I like Armand Assante & my cable company's sum...\n",
      "449    I won't say any more - I don't like spoilers, ...\n",
      "715    Im big fan of RPG games too, but this movie, i...\n",
      "241    This would not even be good as a made for TV f...\n",
      "471    At no point in the proceedings does it look re...\n",
      "481    And, FINALLY, after all that, we get to an end...\n",
      "104                           Too politically correct.  \n",
      "522    Rating: 0/10 (Grade: Z) Note: The Show Is So B...\n",
      "174               This film has no redeeming features.  \n",
      "491    This movie creates its own universe, and is fa...\n",
      "Name: review, dtype: object\n"
     ]
    }
   ],
   "source": [
    "print(test_corpus[yt!=solution])"
   ]
  }
 ],
 "metadata": {
  "kernelspec": {
   "display_name": "Python [conda env:py36]",
   "language": "python",
   "name": "conda-env-py36-py"
  },
  "language_info": {
   "codemirror_mode": {
    "name": "ipython",
    "version": 3
   },
   "file_extension": ".py",
   "mimetype": "text/x-python",
   "name": "python",
   "nbconvert_exporter": "python",
   "pygments_lexer": "ipython3",
   "version": "3.6.4"
  }
 },
 "nbformat": 4,
 "nbformat_minor": 2
}
